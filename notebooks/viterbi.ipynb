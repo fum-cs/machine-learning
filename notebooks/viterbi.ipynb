{
 "cells": [
  {
   "attachments": {},
   "cell_type": "markdown",
   "metadata": {},
   "source": [
    "Vierbi Algorithm\n",
    "\n",
    "M. Amintoosi"
   ]
  },
  {
   "cell_type": "code",
   "execution_count": null,
   "metadata": {},
   "outputs": [],
   "source": []
  },
  {
   "cell_type": "code",
   "execution_count": 1,
   "metadata": {},
   "outputs": [],
   "source": [
    "import numpy as np\n",
    "\n",
    "def viterbi(obs, states, start_p, trans_p, emit_p):\n",
    "    \"\"\"\n",
    "    :param obs: observation sequence\n",
    "    :param states: hidden state sequence\n",
    "    :param start_p: initial probabilities of hidden states\n",
    "    :param trans_p: transition probabilities between hidden states\n",
    "    :param emit_p: emission probabilities of observed symbols given hidden states\n",
    "    :return: most probable sequence of hidden states\n",
    "    \"\"\"\n",
    "    # Initialize trellis table and backpointer table\n",
    "    T = len(obs)\n",
    "    N = len(states)\n",
    "    trellis = np.zeros((N, T))\n",
    "    backpointers = np.zeros((N, T), dtype=int)\n",
    "\n",
    "    # Fill in first column of trellis table using initial probabilities and emission probabilities\n",
    "    for i in range(N):\n",
    "        trellis[i][0] = start_p[i] * emit_p[i][obs[0]]\n",
    "\n",
    "    # Fill in remaining columns of trellis table using dynamic programming\n",
    "    for t in range(1, T):\n",
    "        for j in range(N):\n",
    "            prob = [(trellis[i][t - 1] * trans_p[i][j] * emit_p[j][obs[t]], i) for i in range(N)]\n",
    "            max_prob, max_index = max(prob)\n",
    "            trellis[j][t] = max_prob\n",
    "            backpointers[j][t] = max_index\n",
    "\n",
    "    # Find the path with maximum probability using backpointers\n",
    "    path = [0] * T\n",
    "    path[T - 1] = np.argmax(trellis[:, T - 1])\n",
    "    for t in range(T - 2, -1, -1):\n",
    "        path[t] = backpointers[path[t + 1]][t + 1]\n",
    "\n",
    "    # Map hidden states to their corresponding labels and return the most probable sequence of labels\n",
    "    return [states[i] for i in path]\n"
   ]
  },
  {
   "cell_type": "code",
   "execution_count": 2,
   "metadata": {},
   "outputs": [
    {
     "ename": "IndexError",
     "evalue": "list index out of range",
     "output_type": "error",
     "traceback": [
      "\u001b[1;31m---------------------------------------------------------------------------\u001b[0m",
      "\u001b[1;31mIndexError\u001b[0m                                Traceback (most recent call last)",
      "\u001b[1;32m~\\AppData\\Local\\Temp/ipykernel_14788/2871377709.py\u001b[0m in \u001b[0;36m<module>\u001b[1;34m\u001b[0m\n\u001b[0;32m     11\u001b[0m \u001b[1;33m\u001b[0m\u001b[0m\n\u001b[0;32m     12\u001b[0m \u001b[1;31m# Apply the Viterbi algorithm to find the most probable sequence of hidden states\u001b[0m\u001b[1;33m\u001b[0m\u001b[1;33m\u001b[0m\u001b[0m\n\u001b[1;32m---> 13\u001b[1;33m \u001b[0mhidden_seq\u001b[0m \u001b[1;33m=\u001b[0m \u001b[0mviterbi\u001b[0m\u001b[1;33m(\u001b[0m\u001b[0mobs\u001b[0m\u001b[1;33m,\u001b[0m \u001b[0mstates\u001b[0m\u001b[1;33m,\u001b[0m \u001b[0mstart_p\u001b[0m\u001b[1;33m,\u001b[0m \u001b[0mtrans_p\u001b[0m\u001b[1;33m,\u001b[0m \u001b[0memit_p\u001b[0m\u001b[1;33m)\u001b[0m\u001b[1;33m\u001b[0m\u001b[1;33m\u001b[0m\u001b[0m\n\u001b[0m\u001b[0;32m     14\u001b[0m \u001b[1;33m\u001b[0m\u001b[0m\n\u001b[0;32m     15\u001b[0m \u001b[1;31m# Print the result\u001b[0m\u001b[1;33m\u001b[0m\u001b[1;33m\u001b[0m\u001b[0m\n",
      "\u001b[1;32m~\\AppData\\Local\\Temp/ipykernel_14788/2535525289.py\u001b[0m in \u001b[0;36mviterbi\u001b[1;34m(obs, states, start_p, trans_p, emit_p)\u001b[0m\n\u001b[0;32m     23\u001b[0m     \u001b[1;32mfor\u001b[0m \u001b[0mt\u001b[0m \u001b[1;32min\u001b[0m \u001b[0mrange\u001b[0m\u001b[1;33m(\u001b[0m\u001b[1;36m1\u001b[0m\u001b[1;33m,\u001b[0m \u001b[0mT\u001b[0m\u001b[1;33m)\u001b[0m\u001b[1;33m:\u001b[0m\u001b[1;33m\u001b[0m\u001b[1;33m\u001b[0m\u001b[0m\n\u001b[0;32m     24\u001b[0m         \u001b[1;32mfor\u001b[0m \u001b[0mj\u001b[0m \u001b[1;32min\u001b[0m \u001b[0mrange\u001b[0m\u001b[1;33m(\u001b[0m\u001b[0mN\u001b[0m\u001b[1;33m)\u001b[0m\u001b[1;33m:\u001b[0m\u001b[1;33m\u001b[0m\u001b[1;33m\u001b[0m\u001b[0m\n\u001b[1;32m---> 25\u001b[1;33m             \u001b[0mprob\u001b[0m \u001b[1;33m=\u001b[0m \u001b[1;33m[\u001b[0m\u001b[1;33m(\u001b[0m\u001b[0mtrellis\u001b[0m\u001b[1;33m[\u001b[0m\u001b[0mi\u001b[0m\u001b[1;33m]\u001b[0m\u001b[1;33m[\u001b[0m\u001b[0mt\u001b[0m \u001b[1;33m-\u001b[0m \u001b[1;36m1\u001b[0m\u001b[1;33m]\u001b[0m \u001b[1;33m*\u001b[0m \u001b[0mtrans_p\u001b[0m\u001b[1;33m[\u001b[0m\u001b[0mi\u001b[0m\u001b[1;33m]\u001b[0m\u001b[1;33m[\u001b[0m\u001b[0mj\u001b[0m\u001b[1;33m]\u001b[0m \u001b[1;33m*\u001b[0m \u001b[0memit_p\u001b[0m\u001b[1;33m[\u001b[0m\u001b[0mj\u001b[0m\u001b[1;33m]\u001b[0m\u001b[1;33m[\u001b[0m\u001b[0mobs\u001b[0m\u001b[1;33m[\u001b[0m\u001b[0mt\u001b[0m\u001b[1;33m]\u001b[0m\u001b[1;33m]\u001b[0m\u001b[1;33m,\u001b[0m \u001b[0mi\u001b[0m\u001b[1;33m)\u001b[0m \u001b[1;32mfor\u001b[0m \u001b[0mi\u001b[0m \u001b[1;32min\u001b[0m \u001b[0mrange\u001b[0m\u001b[1;33m(\u001b[0m\u001b[0mN\u001b[0m\u001b[1;33m)\u001b[0m\u001b[1;33m]\u001b[0m\u001b[1;33m\u001b[0m\u001b[1;33m\u001b[0m\u001b[0m\n\u001b[0m\u001b[0;32m     26\u001b[0m             \u001b[0mmax_prob\u001b[0m\u001b[1;33m,\u001b[0m \u001b[0mmax_index\u001b[0m \u001b[1;33m=\u001b[0m \u001b[0mmax\u001b[0m\u001b[1;33m(\u001b[0m\u001b[0mprob\u001b[0m\u001b[1;33m)\u001b[0m\u001b[1;33m\u001b[0m\u001b[1;33m\u001b[0m\u001b[0m\n\u001b[0;32m     27\u001b[0m             \u001b[0mtrellis\u001b[0m\u001b[1;33m[\u001b[0m\u001b[0mj\u001b[0m\u001b[1;33m]\u001b[0m\u001b[1;33m[\u001b[0m\u001b[0mt\u001b[0m\u001b[1;33m]\u001b[0m \u001b[1;33m=\u001b[0m \u001b[0mmax_prob\u001b[0m\u001b[1;33m\u001b[0m\u001b[1;33m\u001b[0m\u001b[0m\n",
      "\u001b[1;32m~\\AppData\\Local\\Temp/ipykernel_14788/2535525289.py\u001b[0m in \u001b[0;36m<listcomp>\u001b[1;34m(.0)\u001b[0m\n\u001b[0;32m     23\u001b[0m     \u001b[1;32mfor\u001b[0m \u001b[0mt\u001b[0m \u001b[1;32min\u001b[0m \u001b[0mrange\u001b[0m\u001b[1;33m(\u001b[0m\u001b[1;36m1\u001b[0m\u001b[1;33m,\u001b[0m \u001b[0mT\u001b[0m\u001b[1;33m)\u001b[0m\u001b[1;33m:\u001b[0m\u001b[1;33m\u001b[0m\u001b[1;33m\u001b[0m\u001b[0m\n\u001b[0;32m     24\u001b[0m         \u001b[1;32mfor\u001b[0m \u001b[0mj\u001b[0m \u001b[1;32min\u001b[0m \u001b[0mrange\u001b[0m\u001b[1;33m(\u001b[0m\u001b[0mN\u001b[0m\u001b[1;33m)\u001b[0m\u001b[1;33m:\u001b[0m\u001b[1;33m\u001b[0m\u001b[1;33m\u001b[0m\u001b[0m\n\u001b[1;32m---> 25\u001b[1;33m             \u001b[0mprob\u001b[0m \u001b[1;33m=\u001b[0m \u001b[1;33m[\u001b[0m\u001b[1;33m(\u001b[0m\u001b[0mtrellis\u001b[0m\u001b[1;33m[\u001b[0m\u001b[0mi\u001b[0m\u001b[1;33m]\u001b[0m\u001b[1;33m[\u001b[0m\u001b[0mt\u001b[0m \u001b[1;33m-\u001b[0m \u001b[1;36m1\u001b[0m\u001b[1;33m]\u001b[0m \u001b[1;33m*\u001b[0m \u001b[0mtrans_p\u001b[0m\u001b[1;33m[\u001b[0m\u001b[0mi\u001b[0m\u001b[1;33m]\u001b[0m\u001b[1;33m[\u001b[0m\u001b[0mj\u001b[0m\u001b[1;33m]\u001b[0m \u001b[1;33m*\u001b[0m \u001b[0memit_p\u001b[0m\u001b[1;33m[\u001b[0m\u001b[0mj\u001b[0m\u001b[1;33m]\u001b[0m\u001b[1;33m[\u001b[0m\u001b[0mobs\u001b[0m\u001b[1;33m[\u001b[0m\u001b[0mt\u001b[0m\u001b[1;33m]\u001b[0m\u001b[1;33m]\u001b[0m\u001b[1;33m,\u001b[0m \u001b[0mi\u001b[0m\u001b[1;33m)\u001b[0m \u001b[1;32mfor\u001b[0m \u001b[0mi\u001b[0m \u001b[1;32min\u001b[0m \u001b[0mrange\u001b[0m\u001b[1;33m(\u001b[0m\u001b[0mN\u001b[0m\u001b[1;33m)\u001b[0m\u001b[1;33m]\u001b[0m\u001b[1;33m\u001b[0m\u001b[1;33m\u001b[0m\u001b[0m\n\u001b[0m\u001b[0;32m     26\u001b[0m             \u001b[0mmax_prob\u001b[0m\u001b[1;33m,\u001b[0m \u001b[0mmax_index\u001b[0m \u001b[1;33m=\u001b[0m \u001b[0mmax\u001b[0m\u001b[1;33m(\u001b[0m\u001b[0mprob\u001b[0m\u001b[1;33m)\u001b[0m\u001b[1;33m\u001b[0m\u001b[1;33m\u001b[0m\u001b[0m\n\u001b[0;32m     27\u001b[0m             \u001b[0mtrellis\u001b[0m\u001b[1;33m[\u001b[0m\u001b[0mj\u001b[0m\u001b[1;33m]\u001b[0m\u001b[1;33m[\u001b[0m\u001b[0mt\u001b[0m\u001b[1;33m]\u001b[0m \u001b[1;33m=\u001b[0m \u001b[0mmax_prob\u001b[0m\u001b[1;33m\u001b[0m\u001b[1;33m\u001b[0m\u001b[0m\n",
      "\u001b[1;31mIndexError\u001b[0m: list index out of range"
     ]
    }
   ],
   "source": [
    "# Define observation sequence, hidden states, and model parameters\n",
    "obs = [0, 1, 0, 2, 1]\n",
    "states = ['A', 'B', 'C']\n",
    "start_p = [0.6, 0.3, 0.1]\n",
    "trans_p = [[0.7, 0.2, 0.1],\n",
    "           [0.3, 0.5, 0.2],\n",
    "           [0.2, 0.4, 0.4]]\n",
    "emit_p = [[0.4, 0.6],\n",
    "          [0.3, 0.7],\n",
    "          [0.5, 0.5]]\n",
    "\n",
    "# Apply the Viterbi algorithm to find the most probable sequence of hidden states\n",
    "hidden_seq = viterbi(obs, states, start_p, trans_p, emit_p)\n",
    "\n",
    "# Print the result\n",
    "print(hidden_seq)\n"
   ]
  },
  {
   "cell_type": "code",
   "execution_count": null,
   "metadata": {},
   "outputs": [
    {
     "ename": "IndexError",
     "evalue": "list index out of range",
     "output_type": "error",
     "traceback": [
      "\u001b[1;31m---------------------------------------------------------------------------\u001b[0m",
      "\u001b[1;31mIndexError\u001b[0m                                Traceback (most recent call last)",
      "\u001b[1;32m~\\AppData\\Local\\Temp/ipykernel_12028/4277722287.py\u001b[0m in \u001b[0;36m<module>\u001b[1;34m\u001b[0m\n\u001b[0;32m     11\u001b[0m \u001b[1;32mfor\u001b[0m \u001b[0mt\u001b[0m \u001b[1;32min\u001b[0m \u001b[0mrange\u001b[0m\u001b[1;33m(\u001b[0m\u001b[1;36m1\u001b[0m\u001b[1;33m,\u001b[0m \u001b[0mT\u001b[0m\u001b[1;33m)\u001b[0m\u001b[1;33m:\u001b[0m\u001b[1;33m\u001b[0m\u001b[1;33m\u001b[0m\u001b[0m\n\u001b[0;32m     12\u001b[0m     \u001b[1;32mfor\u001b[0m \u001b[0mj\u001b[0m \u001b[1;32min\u001b[0m \u001b[0mrange\u001b[0m\u001b[1;33m(\u001b[0m\u001b[0mN\u001b[0m\u001b[1;33m)\u001b[0m\u001b[1;33m:\u001b[0m\u001b[1;33m\u001b[0m\u001b[1;33m\u001b[0m\u001b[0m\n\u001b[1;32m---> 13\u001b[1;33m         \u001b[0mprob\u001b[0m \u001b[1;33m=\u001b[0m \u001b[1;33m[\u001b[0m\u001b[1;33m(\u001b[0m\u001b[0mtrellis\u001b[0m\u001b[1;33m[\u001b[0m\u001b[0mi\u001b[0m\u001b[1;33m]\u001b[0m\u001b[1;33m[\u001b[0m\u001b[0mt\u001b[0m \u001b[1;33m-\u001b[0m \u001b[1;36m1\u001b[0m\u001b[1;33m]\u001b[0m \u001b[1;33m*\u001b[0m \u001b[0mtrans_p\u001b[0m\u001b[1;33m[\u001b[0m\u001b[0mi\u001b[0m\u001b[1;33m]\u001b[0m\u001b[1;33m[\u001b[0m\u001b[0mj\u001b[0m\u001b[1;33m]\u001b[0m \u001b[1;33m*\u001b[0m \u001b[0memit_p\u001b[0m\u001b[1;33m[\u001b[0m\u001b[0mj\u001b[0m\u001b[1;33m]\u001b[0m\u001b[1;33m[\u001b[0m\u001b[0mobs\u001b[0m\u001b[1;33m[\u001b[0m\u001b[0mt\u001b[0m\u001b[1;33m]\u001b[0m\u001b[1;33m]\u001b[0m\u001b[1;33m,\u001b[0m \u001b[0mi\u001b[0m\u001b[1;33m)\u001b[0m \u001b[1;32mfor\u001b[0m \u001b[0mi\u001b[0m \u001b[1;32min\u001b[0m \u001b[0mrange\u001b[0m\u001b[1;33m(\u001b[0m\u001b[0mN\u001b[0m\u001b[1;33m)\u001b[0m\u001b[1;33m]\u001b[0m\u001b[1;33m\u001b[0m\u001b[1;33m\u001b[0m\u001b[0m\n\u001b[0m\u001b[0;32m     14\u001b[0m         \u001b[0mmax_prob\u001b[0m\u001b[1;33m,\u001b[0m \u001b[0mmax_index\u001b[0m \u001b[1;33m=\u001b[0m \u001b[0mmax\u001b[0m\u001b[1;33m(\u001b[0m\u001b[0mprob\u001b[0m\u001b[1;33m)\u001b[0m\u001b[1;33m\u001b[0m\u001b[1;33m\u001b[0m\u001b[0m\n\u001b[0;32m     15\u001b[0m         \u001b[0mtrellis\u001b[0m\u001b[1;33m[\u001b[0m\u001b[0mj\u001b[0m\u001b[1;33m]\u001b[0m\u001b[1;33m[\u001b[0m\u001b[0mt\u001b[0m\u001b[1;33m]\u001b[0m \u001b[1;33m=\u001b[0m \u001b[0mmax_prob\u001b[0m\u001b[1;33m\u001b[0m\u001b[1;33m\u001b[0m\u001b[0m\n",
      "\u001b[1;32m~\\AppData\\Local\\Temp/ipykernel_12028/4277722287.py\u001b[0m in \u001b[0;36m<listcomp>\u001b[1;34m(.0)\u001b[0m\n\u001b[0;32m     11\u001b[0m \u001b[1;32mfor\u001b[0m \u001b[0mt\u001b[0m \u001b[1;32min\u001b[0m \u001b[0mrange\u001b[0m\u001b[1;33m(\u001b[0m\u001b[1;36m1\u001b[0m\u001b[1;33m,\u001b[0m \u001b[0mT\u001b[0m\u001b[1;33m)\u001b[0m\u001b[1;33m:\u001b[0m\u001b[1;33m\u001b[0m\u001b[1;33m\u001b[0m\u001b[0m\n\u001b[0;32m     12\u001b[0m     \u001b[1;32mfor\u001b[0m \u001b[0mj\u001b[0m \u001b[1;32min\u001b[0m \u001b[0mrange\u001b[0m\u001b[1;33m(\u001b[0m\u001b[0mN\u001b[0m\u001b[1;33m)\u001b[0m\u001b[1;33m:\u001b[0m\u001b[1;33m\u001b[0m\u001b[1;33m\u001b[0m\u001b[0m\n\u001b[1;32m---> 13\u001b[1;33m         \u001b[0mprob\u001b[0m \u001b[1;33m=\u001b[0m \u001b[1;33m[\u001b[0m\u001b[1;33m(\u001b[0m\u001b[0mtrellis\u001b[0m\u001b[1;33m[\u001b[0m\u001b[0mi\u001b[0m\u001b[1;33m]\u001b[0m\u001b[1;33m[\u001b[0m\u001b[0mt\u001b[0m \u001b[1;33m-\u001b[0m \u001b[1;36m1\u001b[0m\u001b[1;33m]\u001b[0m \u001b[1;33m*\u001b[0m \u001b[0mtrans_p\u001b[0m\u001b[1;33m[\u001b[0m\u001b[0mi\u001b[0m\u001b[1;33m]\u001b[0m\u001b[1;33m[\u001b[0m\u001b[0mj\u001b[0m\u001b[1;33m]\u001b[0m \u001b[1;33m*\u001b[0m \u001b[0memit_p\u001b[0m\u001b[1;33m[\u001b[0m\u001b[0mj\u001b[0m\u001b[1;33m]\u001b[0m\u001b[1;33m[\u001b[0m\u001b[0mobs\u001b[0m\u001b[1;33m[\u001b[0m\u001b[0mt\u001b[0m\u001b[1;33m]\u001b[0m\u001b[1;33m]\u001b[0m\u001b[1;33m,\u001b[0m \u001b[0mi\u001b[0m\u001b[1;33m)\u001b[0m \u001b[1;32mfor\u001b[0m \u001b[0mi\u001b[0m \u001b[1;32min\u001b[0m \u001b[0mrange\u001b[0m\u001b[1;33m(\u001b[0m\u001b[0mN\u001b[0m\u001b[1;33m)\u001b[0m\u001b[1;33m]\u001b[0m\u001b[1;33m\u001b[0m\u001b[1;33m\u001b[0m\u001b[0m\n\u001b[0m\u001b[0;32m     14\u001b[0m         \u001b[0mmax_prob\u001b[0m\u001b[1;33m,\u001b[0m \u001b[0mmax_index\u001b[0m \u001b[1;33m=\u001b[0m \u001b[0mmax\u001b[0m\u001b[1;33m(\u001b[0m\u001b[0mprob\u001b[0m\u001b[1;33m)\u001b[0m\u001b[1;33m\u001b[0m\u001b[1;33m\u001b[0m\u001b[0m\n\u001b[0;32m     15\u001b[0m         \u001b[0mtrellis\u001b[0m\u001b[1;33m[\u001b[0m\u001b[0mj\u001b[0m\u001b[1;33m]\u001b[0m\u001b[1;33m[\u001b[0m\u001b[0mt\u001b[0m\u001b[1;33m]\u001b[0m \u001b[1;33m=\u001b[0m \u001b[0mmax_prob\u001b[0m\u001b[1;33m\u001b[0m\u001b[1;33m\u001b[0m\u001b[0m\n",
      "\u001b[1;31mIndexError\u001b[0m: list index out of range"
     ]
    }
   ],
   "source": [
    "T = len(obs)\n",
    "N = len(states)\n",
    "trellis = np.zeros((N, T))\n",
    "backpointers = np.zeros((N, T), dtype=int)\n",
    "\n",
    "# Fill in first column of trellis table using initial probabilities and emission probabilities\n",
    "for i in range(N):\n",
    "    trellis[i][0] = start_p[i] * emit_p[i][obs[0]]\n",
    "\n",
    "# Fill in remaining columns of trellis table using dynamic programming\n",
    "for t in range(1, T):\n",
    "    for j in range(N):\n",
    "        prob = [(trellis[i][t - 1] * trans_p[i][j] * emit_p[j][obs[t]], i) for i in range(N)]\n",
    "        max_prob, max_index = max(prob)\n",
    "        trellis[j][t] = max_prob\n",
    "        backpointers[j][t] = max_index\n",
    "\n",
    "# Find the path with maximum probability using backpointers\n",
    "path = [0] * T\n",
    "path[T - 1] = np.argmax(trellis[:, T - 1])\n",
    "for t in range(T - 2, -1, -1):\n",
    "    path[t] = backpointers[path[t + 1]][t + 1]\n",
    "\n",
    "# Map hidden states to their corresponding labels and return the most probable sequence of labels\n",
    "sol = [states[i] for i in path]\n"
   ]
  },
  {
   "cell_type": "code",
   "execution_count": 3,
   "metadata": {},
   "outputs": [
    {
     "name": "stdout",
     "output_type": "stream",
     "text": [
      "[0 1 1 1 0]\n"
     ]
    }
   ],
   "source": [
    "import numpy as np\n",
    "\n",
    "\n",
    "def viterbi_path(prior, transmat, obslik, scaled=True, ret_loglik=False):\n",
    "    '''Finds the most-probable (Viterbi) path through the HMM state trellis\n",
    "    Notation:\n",
    "        Z[t] := Observation at time t\n",
    "        Q[t] := Hidden state at time t\n",
    "    Inputs:\n",
    "        prior: np.array(num_hid)\n",
    "            prior[i] := Pr(Q[0] == i)\n",
    "        transmat: np.ndarray((num_hid,num_hid))\n",
    "            transmat[i,j] := Pr(Q[t+1] == j | Q[t] == i)\n",
    "        obslik: np.ndarray((num_hid,num_obs))\n",
    "            obslik[i,t] := Pr(Z[t] | Q[t] == i)\n",
    "        scaled: bool\n",
    "            whether or not to normalize the probability trellis along the way\n",
    "            doing so prevents underflow by repeated multiplications of probabilities\n",
    "        ret_loglik: bool\n",
    "            whether or not to return the log-likelihood of the best path\n",
    "    Outputs:\n",
    "        path: np.array(num_obs)\n",
    "            path[t] := Q[t]\n",
    "    '''\n",
    "    num_hid = obslik.shape[0] # number of hidden states\n",
    "    num_obs = obslik.shape[1] # number of observations (not observation *states*)\n",
    "\n",
    "    # trellis_prob[i,t] := Pr((best sequence of length t-1 goes to state i), Z[1:(t+1)])\n",
    "    trellis_prob = np.zeros((num_hid,num_obs))\n",
    "    # trellis_state[i,t] := best predecessor state given that we ended up in state i at t\n",
    "    trellis_state = np.zeros((num_hid,num_obs), dtype=int) # int because its elements will be used as indicies\n",
    "    path = np.zeros(num_obs, dtype=int) # int because its elements will be used as indicies\n",
    "\n",
    "    trellis_prob[:,0] = prior * obslik[:,0] # element-wise mult\n",
    "    if scaled:\n",
    "        scale = np.ones(num_obs) # only instantiated if necessary to save memory\n",
    "        scale[0] = 1.0 / np.sum(trellis_prob[:,0])\n",
    "        trellis_prob[:,0] *= scale[0]\n",
    "\n",
    "    trellis_state[:,0] = 0 # arbitrary value since t == 0 has no predecessor\n",
    "    for t in np.arange(1, num_obs):\n",
    "        for j in np.arange(num_hid):\n",
    "            trans_probs = trellis_prob[:,t-1] * transmat[:,j] # element-wise mult\n",
    "            trellis_state[j,t] = trans_probs.argmax()\n",
    "            trellis_prob[j,t] = trans_probs[trellis_state[j,t]] # max of trans_probs\n",
    "            trellis_prob[j,t] *= obslik[j,t]\n",
    "        if scaled:\n",
    "            scale[t] = 1.0 / np.sum(trellis_prob[:,t])\n",
    "            trellis_prob[:,t] *= scale[t]\n",
    "\n",
    "    path[-1] = trellis_prob[:,-1].argmax()\n",
    "    for t in range(num_obs-2, -1, -1):\n",
    "        path[t] = trellis_state[(path[t+1]), t+1]\n",
    "\n",
    "    if not ret_loglik:\n",
    "        return path\n",
    "    else:\n",
    "        if scaled:\n",
    "            loglik = -np.sum(np.log(scale))\n",
    "        else:\n",
    "            p = trellis_prob[path[-1],-1]\n",
    "            loglik = np.log(p)\n",
    "        return path, loglik\n",
    "\n",
    "\n",
    "if __name__=='__main__':\n",
    "    # Assume there are 3 observation states, 2 hidden states, and 5 observations\n",
    "    priors = np.array([0.5, 0.5])\n",
    "    transmat = np.array([\n",
    "        [0.75, 0.25],\n",
    "        [0.32, 0.68]])\n",
    "    emmat = np.array([\n",
    "        [0.8, 0.1, 0.1],\n",
    "        [0.1, 0.2, 0.7]])\n",
    "    observations = np.array([0, 1, 2, 1, 0], dtype=int)\n",
    "    obslik = np.array([emmat[:,z] for z in observations]).T\n",
    "    print(viterbi_path(priors, transmat, obslik))                                #=> [0 1 1 1 0]\n",
    "    # print viterbi_path(priors, transmat, obslik, scaled=False)                  #=> [0 1 1 1 0]\n",
    "    # print viterbi_path(priors, transmat, obslik, ret_loglik=True)               #=> (array([0, 1, 1, 1, 0]), -7.776472586614755)\n",
    "    # print viterbi_path(priors, transmat, obslik, scaled=False, ret_loglik=True) #=> (array([0, 1, 1, 1, 0]), -8.0120386579275227)"
   ]
  },
  {
   "cell_type": "code",
   "execution_count": 4,
   "metadata": {},
   "outputs": [],
   "source": [
    "import numpy as np\n",
    "\n",
    "def viterbi(y, A, B, Pi=None):\n",
    "    \"\"\"\n",
    "    Return the MAP estimate of state trajectory of Hidden Markov Model.\n",
    "\n",
    "    Parameters\n",
    "    ----------\n",
    "    y : array (T,)\n",
    "        Observation state sequence. int dtype.\n",
    "    A : array (K, K)\n",
    "        State transition matrix. See HiddenMarkovModel.state_transition  for\n",
    "        details.\n",
    "    B : array (K, M)\n",
    "        Emission matrix. See HiddenMarkovModel.emission for details.\n",
    "    Pi: optional, (K,)\n",
    "        Initial state probabilities: Pi[i] is the probability x[0] == i. If\n",
    "        None, uniform initial distribution is assumed (Pi[:] == 1/K).\n",
    "\n",
    "    Returns\n",
    "    -------\n",
    "    x : array (T,)\n",
    "        Maximum a posteriori probability estimate of hidden state trajectory,\n",
    "        conditioned on observation sequence y under the model parameters A, B,\n",
    "        Pi.\n",
    "    T1: array (K, T)\n",
    "        the probability of the most likely path so far\n",
    "    T2: array (K, T)\n",
    "        the x_j-1 of the most likely path so far\n",
    "    \"\"\"\n",
    "    # Cardinality of the state space\n",
    "    K = A.shape[0]\n",
    "    # Initialize the priors with default (uniform dist) if not given by caller\n",
    "    Pi = Pi if Pi is not None else np.full(K, 1 / K)\n",
    "    T = len(y)\n",
    "    T1 = np.empty((K, T), 'd')\n",
    "    T2 = np.empty((K, T), 'B')\n",
    "\n",
    "    # Initilaize the tracking tables from first observation\n",
    "    T1[:, 0] = Pi * B[:, y[0]]\n",
    "    T2[:, 0] = 0\n",
    "\n",
    "    # Iterate throught the observations updating the tracking tables\n",
    "    for i in range(1, T):\n",
    "        T1[:, i] = np.max(T1[:, i - 1] * A.T * B[np.newaxis, :, y[i]].T, 1)\n",
    "        T2[:, i] = np.argmax(T1[:, i - 1] * A.T, 1)\n",
    "\n",
    "    # Build the output, optimal model trajectory\n",
    "    x = np.empty(T, 'B')\n",
    "    x[-1] = np.argmax(T1[:, T - 1])\n",
    "    for i in reversed(range(1, T)):\n",
    "        x[i - 1] = T2[x[i], i]\n",
    "\n",
    "    return x, T1, T2"
   ]
  },
  {
   "cell_type": "code",
   "execution_count": 9,
   "metadata": {},
   "outputs": [
    {
     "name": "stdout",
     "output_type": "stream",
     "text": [
      "[0 1 1] \n",
      " [[0.8     0.096   0.01152]\n",
      " [0.      0.224   0.1568 ]] \n",
      " [[0 0 0]\n",
      " [0 0 1]]\n"
     ]
    }
   ],
   "source": [
    "Pi = np.array([1, 0])\n",
    "A = np.array([\n",
    "    [0.6, 0.4],\n",
    "    [0.0, 1.0]])\n",
    "emmat = np.array([\n",
    "    [0.8, 0.2],\n",
    "    [0.3, 0.7]])\n",
    "y = np.array([0, 1, 1], dtype=int)\n",
    "B = np.array([emmat[:,z] for z in y]).T\n",
    "x, T1, T2 = viterbi(y, A, B, Pi)\n",
    "print(x, '\\n', T1, '\\n', T2)                                #=> [0 1 1 1 0]\n"
   ]
  },
  {
   "cell_type": "code",
   "execution_count": 10,
   "metadata": {},
   "outputs": [
    {
     "data": {
      "text/plain": [
       "array([[0.8, 0.2, 0.2],\n",
       "       [0.3, 0.7, 0.7]])"
      ]
     },
     "execution_count": 10,
     "metadata": {},
     "output_type": "execute_result"
    }
   ],
   "source": [
    "B"
   ]
  },
  {
   "cell_type": "code",
   "execution_count": 13,
   "metadata": {},
   "outputs": [],
   "source": [
    "# !pip install hidden_markov"
   ]
  },
  {
   "cell_type": "code",
   "execution_count": 14,
   "metadata": {},
   "outputs": [],
   "source": [
    "# ====Initializing Parameters ====\n",
    "\n",
    "# States\n",
    "states = ('s', 't')\n",
    "\n",
    "# list of possible observations\n",
    "possible_observation = ('A','B' )\n",
    "\n",
    "# The observations that we observe and feed to the model\n",
    "obs1 = ('A', 'B','B','A')\n",
    "obs2 = ('B', 'A','B')\n",
    "\n",
    "# Number of observation sequece 1 and observation sequence 2\n",
    "quantities_observations = [10, 20]\n",
    "\n",
    "observation_tuple = []\n",
    "observation_tuple.extend( [obs1,obs2] )\n",
    "\n",
    "# Input parameters as Numpy matrices\n",
    "start_probability = np.matrix( '0.5 0.5 ')\n",
    "transition_probability = np.matrix('0.6 0.4 ;  0.3 0.7 ')\n",
    "emission_probability = np.matrix( '0.3 0.7 ; 0.4 0.6 ' )"
   ]
  },
  {
   "cell_type": "code",
   "execution_count": 18,
   "metadata": {},
   "outputs": [
    {
     "data": {
      "text/plain": [
       "('A', 'B')"
      ]
     },
     "execution_count": 18,
     "metadata": {},
     "output_type": "execute_result"
    }
   ],
   "source": [
    "possible_observation"
   ]
  },
  {
   "cell_type": "code",
   "execution_count": 16,
   "metadata": {},
   "outputs": [],
   "source": [
    "import numpy as np\n",
    "from hidden_markov import hmm\n",
    "test = hmm(states,possible_observation,start_probability,transition_probability,emission_probability)"
   ]
  },
  {
   "cell_type": "code",
   "execution_count": 17,
   "metadata": {},
   "outputs": [
    {
     "data": {
      "text/plain": [
       "0.051533999999999996"
      ]
     },
     "execution_count": 17,
     "metadata": {},
     "output_type": "execute_result"
    }
   ],
   "source": [
    "#Forward Algorithm Results on 'obs1'\n",
    "test.forward_algo(obs1)"
   ]
  },
  {
   "cell_type": "code",
   "execution_count": 19,
   "metadata": {},
   "outputs": [],
   "source": [
    "# States\n",
    "states = ('s', 't')\n",
    "\n",
    "# list of possible observations\n",
    "possible_observation = ('A','B' )\n",
    "\n",
    "# The observations that we observe and feed to the model\n",
    "obs1 = ('A', 'A','B')\n",
    "# obs2 = ('B', 'A','B')\n",
    "\n",
    "# Number of observation sequece 1 and observation sequence 2\n",
    "quantities_observations = [10, 20]\n",
    "\n",
    "observation_tuple = []\n",
    "observation_tuple.extend( [obs1,obs2] )\n",
    "\n",
    "# Input parameters as Numpy matrices\n",
    "start_probability = np.matrix( '1 0 ')\n",
    "transition_probability = np.matrix('0.6 0.4 ;  0 1 ')\n",
    "emission_probability = np.matrix( '0.8 0.2 ; 0.3 0.7 ' )"
   ]
  },
  {
   "cell_type": "code",
   "execution_count": 20,
   "metadata": {},
   "outputs": [
    {
     "data": {
      "text/plain": [
       "0.22080000000000002"
      ]
     },
     "execution_count": 20,
     "metadata": {},
     "output_type": "execute_result"
    }
   ],
   "source": [
    "test = hmm(states,possible_observation,start_probability,transition_probability,emission_probability)\n",
    "test.forward_algo(obs1)"
   ]
  },
  {
   "cell_type": "code",
   "execution_count": 21,
   "metadata": {},
   "outputs": [
    {
     "data": {
      "text/plain": [
       "['s', 's', 't']"
      ]
     },
     "execution_count": 21,
     "metadata": {},
     "output_type": "execute_result"
    }
   ],
   "source": [
    "test.viterbi(obs1)"
   ]
  },
  {
   "cell_type": "code",
   "execution_count": null,
   "metadata": {},
   "outputs": [],
   "source": []
  }
 ],
 "metadata": {
  "kernelspec": {
   "display_name": "pth",
   "language": "python",
   "name": "python3"
  },
  "language_info": {
   "codemirror_mode": {
    "name": "ipython",
    "version": 3
   },
   "file_extension": ".py",
   "mimetype": "text/x-python",
   "name": "python",
   "nbconvert_exporter": "python",
   "pygments_lexer": "ipython3",
   "version": "3.9.7"
  },
  "orig_nbformat": 4
 },
 "nbformat": 4,
 "nbformat_minor": 2
}
